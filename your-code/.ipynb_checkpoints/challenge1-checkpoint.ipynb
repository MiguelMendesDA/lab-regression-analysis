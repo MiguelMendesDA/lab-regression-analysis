{
 "cells": [
  {
   "cell_type": "markdown",
   "metadata": {},
   "source": [
    "# Lab: Regression Analysis"
   ]
  },
  {
   "cell_type": "markdown",
   "metadata": {},
   "source": [
    "### Before you start:\n",
    "\n",
    "* Read the README.md file\n",
    "* Comment as much as you can and use the resources (README.md file) \n",
    "\n",
    "Happy learning!"
   ]
  },
  {
   "cell_type": "markdown",
   "metadata": {},
   "source": [
    "## Challenge 1\n",
    "I work at a coding bootcamp, and I have developed a theory that the younger my students are, the more often they are late to class. In order to test my hypothesis, I have collected some data in the following table:\n",
    "\n",
    "| StudentID | Age | Tardies |\n",
    "|--------|-----|------------|\n",
    "| 1      | 17  | 10         |\n",
    "| 2      | 51  | 1          |\n",
    "| 3      | 27  | 5          |\n",
    "| 4      | 21  | 9         |\n",
    "| 5      | 36  |  4         |\n",
    "| 6      | 48  |  2         |\n",
    "| 7      | 19  |  9         |\n",
    "| 8      | 26  | 6          |\n",
    "| 9      | 54  |  0         |\n",
    "| 10     | 30  |  3         |"
   ]
  },
  {
   "cell_type": "markdown",
   "metadata": {},
   "source": [
    "Use this command to create a dataframe with the data provided in the table. \n",
    "~~~~\n",
    "student_data = pd.DataFrame({'X': [x_values], 'Y': [y_values]})\n",
    "~~~~"
   ]
  },
  {
   "cell_type": "code",
   "execution_count": 1,
   "metadata": {},
   "outputs": [],
   "source": [
    "import pandas as pd\n",
    "import matplotlib.pyplot as plt\n",
    "import numpy as np\n",
    "from sklearn.linear_model import LinearRegression"
   ]
  },
  {
   "cell_type": "code",
   "execution_count": 5,
   "metadata": {},
   "outputs": [
    {
     "data": {
      "text/html": [
       "<div>\n",
       "<style scoped>\n",
       "    .dataframe tbody tr th:only-of-type {\n",
       "        vertical-align: middle;\n",
       "    }\n",
       "\n",
       "    .dataframe tbody tr th {\n",
       "        vertical-align: top;\n",
       "    }\n",
       "\n",
       "    .dataframe thead th {\n",
       "        text-align: right;\n",
       "    }\n",
       "</style>\n",
       "<table border=\"1\" class=\"dataframe\">\n",
       "  <thead>\n",
       "    <tr style=\"text-align: right;\">\n",
       "      <th></th>\n",
       "      <th>Age</th>\n",
       "      <th>Tardies</th>\n",
       "    </tr>\n",
       "    <tr>\n",
       "      <th>StudentID</th>\n",
       "      <th></th>\n",
       "      <th></th>\n",
       "    </tr>\n",
       "  </thead>\n",
       "  <tbody>\n",
       "    <tr>\n",
       "      <th>1</th>\n",
       "      <td>17</td>\n",
       "      <td>10</td>\n",
       "    </tr>\n",
       "    <tr>\n",
       "      <th>2</th>\n",
       "      <td>51</td>\n",
       "      <td>1</td>\n",
       "    </tr>\n",
       "    <tr>\n",
       "      <th>3</th>\n",
       "      <td>27</td>\n",
       "      <td>5</td>\n",
       "    </tr>\n",
       "    <tr>\n",
       "      <th>4</th>\n",
       "      <td>21</td>\n",
       "      <td>9</td>\n",
       "    </tr>\n",
       "    <tr>\n",
       "      <th>5</th>\n",
       "      <td>36</td>\n",
       "      <td>4</td>\n",
       "    </tr>\n",
       "    <tr>\n",
       "      <th>6</th>\n",
       "      <td>48</td>\n",
       "      <td>2</td>\n",
       "    </tr>\n",
       "    <tr>\n",
       "      <th>7</th>\n",
       "      <td>19</td>\n",
       "      <td>9</td>\n",
       "    </tr>\n",
       "    <tr>\n",
       "      <th>8</th>\n",
       "      <td>26</td>\n",
       "      <td>6</td>\n",
       "    </tr>\n",
       "    <tr>\n",
       "      <th>9</th>\n",
       "      <td>54</td>\n",
       "      <td>0</td>\n",
       "    </tr>\n",
       "    <tr>\n",
       "      <th>10</th>\n",
       "      <td>30</td>\n",
       "      <td>3</td>\n",
       "    </tr>\n",
       "  </tbody>\n",
       "</table>\n",
       "</div>"
      ],
      "text/plain": [
       "           Age  Tardies\n",
       "StudentID              \n",
       "1           17       10\n",
       "2           51        1\n",
       "3           27        5\n",
       "4           21        9\n",
       "5           36        4\n",
       "6           48        2\n",
       "7           19        9\n",
       "8           26        6\n",
       "9           54        0\n",
       "10          30        3"
      ]
     },
     "execution_count": 5,
     "metadata": {},
     "output_type": "execute_result"
    }
   ],
   "source": [
    "# Your code here.\n",
    "student_data = pd.DataFrame({'Age': [17, 51, 27, 21, 36, 48, 19, 26, 54, 30], 'Tardies': [10, 1, 5, 9, 4, 2, 9, 6, 0, 3]},\n",
    "                             index=pd.RangeIndex(start=1, stop=11, name='StudentID'))\n",
    "student_data"
   ]
  },
  {
   "cell_type": "markdown",
   "metadata": {},
   "source": [
    "Draw a dispersion diagram (scatter plot) for the data."
   ]
  },
  {
   "cell_type": "code",
   "execution_count": 12,
   "metadata": {},
   "outputs": [
    {
     "data": {
      "image/png": "[encoded data removed]",
      "text/plain": [
       "<Figure size 640x480 with 1 Axes>"
      ]
     },
     "metadata": {},
     "output_type": "display_data"
    }
   ],
   "source": [
    "# Create scatter plot\n",
    "plt.scatter(student_data['Age'], student_data['Tardies'], label='Student Data')\n",
    "\n",
    "# Add labels and title\n",
    "plt.xlabel('Age')\n",
    "plt.ylabel('Tardies')\n",
    "plt.title('Scatter Plot of Age vs Tardies')\n",
    "\n",
    "# Add legend\n",
    "plt.legend()\n",
    "\n",
    "# Show the plot\n",
    "plt.show()\n"
   ]
  },
  {
   "cell_type": "markdown",
   "metadata": {},
   "source": [
    "Do you see a trend? Can you make any hypotheses about the relationship between age and number of tardies?"
   ]
  },
  {
   "cell_type": "code",
   "execution_count": 13,
   "metadata": {},
   "outputs": [
    {
     "data": {
      "text/plain": [
       "'Yes i do. \\nAccording to this plot, I can state that the younger the age, the greater the tardiness.\\n'"
      ]
     },
     "execution_count": 13,
     "metadata": {},
     "output_type": "execute_result"
    }
   ],
   "source": [
    "# Your response here. \n",
    "\"\"\"Yes i do. \n",
    "According to this plot, I can state that the younger the age, the greater the tardiness.\n",
    "\"\"\""
   ]
  },
  {
   "cell_type": "markdown",
   "metadata": {},
   "source": [
    "Calculate the covariance and correlation of the variables in your plot. What is the difference between these two measures? Compare their values. What do they tell you in this case? Add your responses as comments after your code."
   ]
  },
  {
   "cell_type": "code",
   "execution_count": 19,
   "metadata": {},
   "outputs": [
    {
     "name": "stdout",
     "output_type": "stream",
     "text": [
      "Covariance: -45.56666666666666\n",
      "Correlation: -0.9391626886887122\n"
     ]
    },
    {
     "data": {
      "text/plain": [
       "'\\nThe covariance is -45.57, indicating a negative linear relationship between Age and Tardies.\\nThe correlation coefficient is approximately -0.94, indicating a strong negative linear relationship between Age and Tardies.\\nIn this case, both measures agree on the negative association, but the correlation coefficient is more informative because it standardizes the measure, \\nmaking it easier to interpret and compare across different datasets and variables.\\n'"
      ]
     },
     "execution_count": 19,
     "metadata": {},
     "output_type": "execute_result"
    }
   ],
   "source": [
    "# Your response here.\n",
    "Age = student_data['Age']\n",
    "Tardies = student_data['Tardies']\n",
    "\n",
    "# Calculate covariance\n",
    "covariance = np.cov(Age, Tardies)[0, 1]\n",
    "\n",
    "# Calculate correlation\n",
    "correlation = np.corrcoef(Age, Tardies)[0, 1]\n",
    "\n",
    "# Print results\n",
    "print(f'Covariance: {covariance}')\n",
    "print(f'Correlation: {correlation}')\n",
    "\n",
    "\"\"\"\n",
    "The covariance is -45.57, indicating a negative linear relationship between Age and Tardies.\n",
    "The correlation coefficient is approximately -0.94, indicating a strong negative linear relationship between Age and Tardies.\n",
    "In this case, both measures agree on the negative association, but the correlation coefficient is more informative because it standardizes the measure, \n",
    "making it easier to interpret and compare across different datasets and variables.\n",
    "\"\"\"\n",
    "\n"
   ]
  },
  {
   "cell_type": "markdown",
   "metadata": {},
   "source": [
    "Build a regression model for this data. What will be your outcome variable? What type of regression are you using? Add your responses as comments after your code."
   ]
  },
  {
   "cell_type": "code",
   "execution_count": 25,
   "metadata": {},
   "outputs": [
    {
     "name": "stdout",
     "output_type": "stream",
     "text": [
      "Slope (Coefficient): -0.2428207709159809\n",
      "Intercept: 12.888803363135771\n"
     ]
    },
    {
     "data": {
      "image/png": "[encoded data removed]",
      "text/plain": [
       "<Figure size 640x480 with 1 Axes>"
      ]
     },
     "metadata": {},
     "output_type": "display_data"
    }
   ],
   "source": [
    "import numpy as np\n",
    "import matplotlib.pyplot as plt\n",
    "from sklearn.linear_model import LinearRegression\n",
    "\n",
    "# Assuming Age and Tardies are columns in your DataFrame (student_data)\n",
    "# Extracting data\n",
    "Age = student_data['Age'].values.reshape(-1, 1)\n",
    "Tardies = student_data['Tardies'].values\n",
    "\n",
    "# Create a linear regression model\n",
    "model = LinearRegression()\n",
    "\n",
    "# Fit the model using the data\n",
    "model.fit(Age, Tardies)\n",
    "\n",
    "# Get the slope (coefficient) and intercept\n",
    "slope = model.coef_[0]\n",
    "intercept = model.intercept_\n",
    "\n",
    "# Output the results\n",
    "print(f\"Slope (Coefficient): {slope}\")\n",
    "print(f\"Intercept: {intercept}\")\n",
    "\n",
    "# Plotting the scatter plot and regression line\n",
    "plt.plot(Age, model.predict(Age), color='red', label='Regression Line')\n",
    "plt.xlabel('Age')\n",
    "plt.ylabel('Tardies')\n",
    "plt.legend()\n",
    "plt.show()\n"
   ]
  },
  {
   "cell_type": "code",
   "execution_count": 26,
   "metadata": {},
   "outputs": [
    {
     "data": {
      "text/plain": [
       "'\\nIn this example, the outcome variable is \"Tardies,\" and we are using a simple linear regression model to explore the relationship between age and tardiness. The regression line helps visualize how changes in age are associated with changes in tardiness.\\n'"
      ]
     },
     "execution_count": 26,
     "metadata": {},
     "output_type": "execute_result"
    }
   ],
   "source": [
    "\"\"\"\n",
    "In this example, the outcome variable is \"Tardies,\" and we are using a simple linear regression model to explore the relationship between age and tardiness. The regression line helps visualize how changes in age are associated with changes in tardiness.\n",
    "\"\"\"\n"
   ]
  },
  {
   "cell_type": "markdown",
   "metadata": {},
   "source": [
    "Plot your regression model on your scatter plot."
   ]
  },
  {
   "cell_type": "code",
   "execution_count": 23,
   "metadata": {},
   "outputs": [
    {
     "data": {
      "image/png": "[encoded data removed]",
      "text/plain": [
       "<Figure size 640x480 with 1 Axes>"
      ]
     },
     "metadata": {},
     "output_type": "display_data"
    }
   ],
   "source": [
    "# Scatter plot\n",
    "plt.scatter(student_data['Age'], student_data['Tardies'], label='Student Data')\n",
    "\n",
    "# Regression line\n",
    "plt.plot(student_data['Age'], model.predict(student_data[['Age']]), color='red', label='Regression Line')\n",
    "\n",
    "# Labels and title\n",
    "plt.xlabel('Age')\n",
    "plt.ylabel('Tardies')\n",
    "plt.title('Scatter Plot with Regression Line')\n",
    "\n",
    "# Show legend\n",
    "plt.legend()\n",
    "\n",
    "# Show the plot\n",
    "plt.show()\n"
   ]
  },
  {
   "cell_type": "markdown",
   "metadata": {},
   "source": [
    "Interpret the results of your model. What can conclusions can you draw from your model and how confident in these conclusions are you? Can we say that age is a good predictor of tardiness? Add your responses as comments after your code."
   ]
  },
  {
   "cell_type": "code",
   "execution_count": 27,
   "metadata": {},
   "outputs": [
    {
     "data": {
      "text/plain": [
       "'\\nInterpretation of the results\\n\\nSlope (Coefficient): -0.2428207709159809\\nThis value represents the change in the outcome variable (Tardies) for a one-unit change in the predictor variable (Age).\\nIn this case, the negative slope suggests that as age increases, tardiness tends to decrease.\\n\\nIntercept: 12.888803363135771\\nThe intercept is the predicted value of Tardies when Age is zero. However, in this context, it might not have a meaningful interpretation\\nbecause it doesn\\'t make sense to have an age of zero in this scenario.\\n\\nConfidence and Conclusion:\\nThe results suggest a negative relationship between age and tardiness. However, it\\'s crucial to consider the confidence interval,\\nstatistical significance, and potential limitations of the model. It\\'s also important to note that correlation does not imply causation.\\nThe model suggests an association, but additional factors may contribute to tardiness.\\nConfidence in the conclusions depends on factors such as the sample size, data quality, and potential confounding variables.\\n\\nGood Predictor:\\nWhether age is a \"good\" predictor depends on the context and the goals of the analysis. The model suggests an association,\\nbut the predictive power may vary. Evaluating model performance and considering other relevant factors are essential.\\n\\n'"
      ]
     },
     "execution_count": 27,
     "metadata": {},
     "output_type": "execute_result"
    }
   ],
   "source": [
    "# Your response here. \n",
    "\"\"\"\n",
    "Interpretation of the results\n",
    "\n",
    "Slope (Coefficient): -0.2428207709159809\n",
    "This value represents the change in the outcome variable (Tardies) for a one-unit change in the predictor variable (Age).\n",
    "In this case, the negative slope suggests that as age increases, tardiness tends to decrease.\n",
    "\n",
    "Intercept: 12.888803363135771\n",
    "The intercept is the predicted value of Tardies when Age is zero. However, in this context, it might not have a meaningful interpretation\n",
    "because it doesn't make sense to have an age of zero in this scenario.\n",
    "\n",
    "Confidence and Conclusion:\n",
    "The results suggest a negative relationship between age and tardiness. However, it's crucial to consider the confidence interval,\n",
    "statistical significance, and potential limitations of the model. It's also important to note that correlation does not imply causation.\n",
    "The model suggests an association, but additional factors may contribute to tardiness.\n",
    "Confidence in the conclusions depends on factors such as the sample size, data quality, and potential confounding variables.\n",
    "\n",
    "Good Predictor:\n",
    "Whether age is a \"good\" predictor depends on the context and the goals of the analysis. The model suggests an association,\n",
    "but the predictive power may vary. Evaluating model performance and considering other relevant factors are essential.\n",
    "\n",
    "\"\"\"\n",
    "\n"
   ]
  },
  {
   "cell_type": "markdown",
   "metadata": {},
   "source": [
    "## Challenge 2\n",
    "For the second part of this lab, we will use the vehicles.csv data set. You can find a copy of the dataset in the git hub folder. This dataset includes variables related to vehicle characteristics, including the model, make, and energy efficiency standards, as well as each car's CO2 emissions. As discussed in class the goal of this exercise is to predict vehicles' CO2 emissions based on several independent variables. "
   ]
  },
  {
   "cell_type": "code",
   "execution_count": 29,
   "metadata": {},
   "outputs": [
    {
     "data": {
      "text/html": [
       "<div>\n",
       "<style scoped>\n",
       "    .dataframe tbody tr th:only-of-type {\n",
       "        vertical-align: middle;\n",
       "    }\n",
       "\n",
       "    .dataframe tbody tr th {\n",
       "        vertical-align: top;\n",
       "    }\n",
       "\n",
       "    .dataframe thead th {\n",
       "        text-align: right;\n",
       "    }\n",
       "</style>\n",
       "<table border=\"1\" class=\"dataframe\">\n",
       "  <thead>\n",
       "    <tr style=\"text-align: right;\">\n",
       "      <th></th>\n",
       "      <th>Make</th>\n",
       "      <th>Model</th>\n",
       "      <th>Year</th>\n",
       "      <th>Engine Displacement</th>\n",
       "      <th>Cylinders</th>\n",
       "      <th>Transmission</th>\n",
       "      <th>Drivetrain</th>\n",
       "      <th>Vehicle Class</th>\n",
       "      <th>Fuel Type</th>\n",
       "      <th>Fuel Barrels/Year</th>\n",
       "      <th>City MPG</th>\n",
       "      <th>Highway MPG</th>\n",
       "      <th>Combined MPG</th>\n",
       "      <th>CO2 Emission Grams/Mile</th>\n",
       "      <th>Fuel Cost/Year</th>\n",
       "    </tr>\n",
       "  </thead>\n",
       "  <tbody>\n",
       "    <tr>\n",
       "      <th>0</th>\n",
       "      <td>AM General</td>\n",
       "      <td>DJ Po Vehicle 2WD</td>\n",
       "      <td>1984</td>\n",
       "      <td>2.5</td>\n",
       "      <td>4.0</td>\n",
       "      <td>Automatic 3-spd</td>\n",
       "      <td>2-Wheel Drive</td>\n",
       "      <td>Special Purpose Vehicle 2WD</td>\n",
       "      <td>Regular</td>\n",
       "      <td>19.388824</td>\n",
       "      <td>18</td>\n",
       "      <td>17</td>\n",
       "      <td>17</td>\n",
       "      <td>522.764706</td>\n",
       "      <td>1950</td>\n",
       "    </tr>\n",
       "    <tr>\n",
       "      <th>1</th>\n",
       "      <td>AM General</td>\n",
       "      <td>FJ8c Post Office</td>\n",
       "      <td>1984</td>\n",
       "      <td>4.2</td>\n",
       "      <td>6.0</td>\n",
       "      <td>Automatic 3-spd</td>\n",
       "      <td>2-Wheel Drive</td>\n",
       "      <td>Special Purpose Vehicle 2WD</td>\n",
       "      <td>Regular</td>\n",
       "      <td>25.354615</td>\n",
       "      <td>13</td>\n",
       "      <td>13</td>\n",
       "      <td>13</td>\n",
       "      <td>683.615385</td>\n",
       "      <td>2550</td>\n",
       "    </tr>\n",
       "    <tr>\n",
       "      <th>2</th>\n",
       "      <td>AM General</td>\n",
       "      <td>Post Office DJ5 2WD</td>\n",
       "      <td>1985</td>\n",
       "      <td>2.5</td>\n",
       "      <td>4.0</td>\n",
       "      <td>Automatic 3-spd</td>\n",
       "      <td>Rear-Wheel Drive</td>\n",
       "      <td>Special Purpose Vehicle 2WD</td>\n",
       "      <td>Regular</td>\n",
       "      <td>20.600625</td>\n",
       "      <td>16</td>\n",
       "      <td>17</td>\n",
       "      <td>16</td>\n",
       "      <td>555.437500</td>\n",
       "      <td>2100</td>\n",
       "    </tr>\n",
       "    <tr>\n",
       "      <th>3</th>\n",
       "      <td>AM General</td>\n",
       "      <td>Post Office DJ8 2WD</td>\n",
       "      <td>1985</td>\n",
       "      <td>4.2</td>\n",
       "      <td>6.0</td>\n",
       "      <td>Automatic 3-spd</td>\n",
       "      <td>Rear-Wheel Drive</td>\n",
       "      <td>Special Purpose Vehicle 2WD</td>\n",
       "      <td>Regular</td>\n",
       "      <td>25.354615</td>\n",
       "      <td>13</td>\n",
       "      <td>13</td>\n",
       "      <td>13</td>\n",
       "      <td>683.615385</td>\n",
       "      <td>2550</td>\n",
       "    </tr>\n",
       "    <tr>\n",
       "      <th>4</th>\n",
       "      <td>ASC Incorporated</td>\n",
       "      <td>GNX</td>\n",
       "      <td>1987</td>\n",
       "      <td>3.8</td>\n",
       "      <td>6.0</td>\n",
       "      <td>Automatic 4-spd</td>\n",
       "      <td>Rear-Wheel Drive</td>\n",
       "      <td>Midsize Cars</td>\n",
       "      <td>Premium</td>\n",
       "      <td>20.600625</td>\n",
       "      <td>14</td>\n",
       "      <td>21</td>\n",
       "      <td>16</td>\n",
       "      <td>555.437500</td>\n",
       "      <td>2550</td>\n",
       "    </tr>\n",
       "    <tr>\n",
       "      <th>...</th>\n",
       "      <td>...</td>\n",
       "      <td>...</td>\n",
       "      <td>...</td>\n",
       "      <td>...</td>\n",
       "      <td>...</td>\n",
       "      <td>...</td>\n",
       "      <td>...</td>\n",
       "      <td>...</td>\n",
       "      <td>...</td>\n",
       "      <td>...</td>\n",
       "      <td>...</td>\n",
       "      <td>...</td>\n",
       "      <td>...</td>\n",
       "      <td>...</td>\n",
       "      <td>...</td>\n",
       "    </tr>\n",
       "    <tr>\n",
       "      <th>35947</th>\n",
       "      <td>smart</td>\n",
       "      <td>fortwo coupe</td>\n",
       "      <td>2013</td>\n",
       "      <td>1.0</td>\n",
       "      <td>3.0</td>\n",
       "      <td>Auto(AM5)</td>\n",
       "      <td>Rear-Wheel Drive</td>\n",
       "      <td>Two Seaters</td>\n",
       "      <td>Premium</td>\n",
       "      <td>9.155833</td>\n",
       "      <td>34</td>\n",
       "      <td>38</td>\n",
       "      <td>36</td>\n",
       "      <td>244.000000</td>\n",
       "      <td>1100</td>\n",
       "    </tr>\n",
       "    <tr>\n",
       "      <th>35948</th>\n",
       "      <td>smart</td>\n",
       "      <td>fortwo coupe</td>\n",
       "      <td>2014</td>\n",
       "      <td>1.0</td>\n",
       "      <td>3.0</td>\n",
       "      <td>Auto(AM5)</td>\n",
       "      <td>Rear-Wheel Drive</td>\n",
       "      <td>Two Seaters</td>\n",
       "      <td>Premium</td>\n",
       "      <td>9.155833</td>\n",
       "      <td>34</td>\n",
       "      <td>38</td>\n",
       "      <td>36</td>\n",
       "      <td>243.000000</td>\n",
       "      <td>1100</td>\n",
       "    </tr>\n",
       "    <tr>\n",
       "      <th>35949</th>\n",
       "      <td>smart</td>\n",
       "      <td>fortwo coupe</td>\n",
       "      <td>2015</td>\n",
       "      <td>1.0</td>\n",
       "      <td>3.0</td>\n",
       "      <td>Auto(AM5)</td>\n",
       "      <td>Rear-Wheel Drive</td>\n",
       "      <td>Two Seaters</td>\n",
       "      <td>Premium</td>\n",
       "      <td>9.155833</td>\n",
       "      <td>34</td>\n",
       "      <td>38</td>\n",
       "      <td>36</td>\n",
       "      <td>244.000000</td>\n",
       "      <td>1100</td>\n",
       "    </tr>\n",
       "    <tr>\n",
       "      <th>35950</th>\n",
       "      <td>smart</td>\n",
       "      <td>fortwo coupe</td>\n",
       "      <td>2016</td>\n",
       "      <td>0.9</td>\n",
       "      <td>3.0</td>\n",
       "      <td>Auto(AM6)</td>\n",
       "      <td>Rear-Wheel Drive</td>\n",
       "      <td>Two Seaters</td>\n",
       "      <td>Premium</td>\n",
       "      <td>9.155833</td>\n",
       "      <td>34</td>\n",
       "      <td>39</td>\n",
       "      <td>36</td>\n",
       "      <td>246.000000</td>\n",
       "      <td>1100</td>\n",
       "    </tr>\n",
       "    <tr>\n",
       "      <th>35951</th>\n",
       "      <td>smart</td>\n",
       "      <td>fortwo coupe</td>\n",
       "      <td>2016</td>\n",
       "      <td>0.9</td>\n",
       "      <td>3.0</td>\n",
       "      <td>Manual 5-spd</td>\n",
       "      <td>Rear-Wheel Drive</td>\n",
       "      <td>Two Seaters</td>\n",
       "      <td>Premium</td>\n",
       "      <td>9.417429</td>\n",
       "      <td>32</td>\n",
       "      <td>39</td>\n",
       "      <td>35</td>\n",
       "      <td>255.000000</td>\n",
       "      <td>1150</td>\n",
       "    </tr>\n",
       "  </tbody>\n",
       "</table>\n",
       "<p>35952 rows × 15 columns</p>\n",
       "</div>"
      ],
      "text/plain": [
       "                   Make                Model  Year  Engine Displacement  \\\n",
       "0            AM General    DJ Po Vehicle 2WD  1984                  2.5   \n",
       "1            AM General     FJ8c Post Office  1984                  4.2   \n",
       "2            AM General  Post Office DJ5 2WD  1985                  2.5   \n",
       "3            AM General  Post Office DJ8 2WD  1985                  4.2   \n",
       "4      ASC Incorporated                  GNX  1987                  3.8   \n",
       "...                 ...                  ...   ...                  ...   \n",
       "35947             smart         fortwo coupe  2013                  1.0   \n",
       "35948             smart         fortwo coupe  2014                  1.0   \n",
       "35949             smart         fortwo coupe  2015                  1.0   \n",
       "35950             smart         fortwo coupe  2016                  0.9   \n",
       "35951             smart         fortwo coupe  2016                  0.9   \n",
       "\n",
       "       Cylinders     Transmission        Drivetrain  \\\n",
       "0            4.0  Automatic 3-spd     2-Wheel Drive   \n",
       "1            6.0  Automatic 3-spd     2-Wheel Drive   \n",
       "2            4.0  Automatic 3-spd  Rear-Wheel Drive   \n",
       "3            6.0  Automatic 3-spd  Rear-Wheel Drive   \n",
       "4            6.0  Automatic 4-spd  Rear-Wheel Drive   \n",
       "...          ...              ...               ...   \n",
       "35947        3.0        Auto(AM5)  Rear-Wheel Drive   \n",
       "35948        3.0        Auto(AM5)  Rear-Wheel Drive   \n",
       "35949        3.0        Auto(AM5)  Rear-Wheel Drive   \n",
       "35950        3.0        Auto(AM6)  Rear-Wheel Drive   \n",
       "35951        3.0     Manual 5-spd  Rear-Wheel Drive   \n",
       "\n",
       "                     Vehicle Class Fuel Type  Fuel Barrels/Year  City MPG  \\\n",
       "0      Special Purpose Vehicle 2WD   Regular          19.388824        18   \n",
       "1      Special Purpose Vehicle 2WD   Regular          25.354615        13   \n",
       "2      Special Purpose Vehicle 2WD   Regular          20.600625        16   \n",
       "3      Special Purpose Vehicle 2WD   Regular          25.354615        13   \n",
       "4                     Midsize Cars   Premium          20.600625        14   \n",
       "...                            ...       ...                ...       ...   \n",
       "35947                  Two Seaters   Premium           9.155833        34   \n",
       "35948                  Two Seaters   Premium           9.155833        34   \n",
       "35949                  Two Seaters   Premium           9.155833        34   \n",
       "35950                  Two Seaters   Premium           9.155833        34   \n",
       "35951                  Two Seaters   Premium           9.417429        32   \n",
       "\n",
       "       Highway MPG  Combined MPG  CO2 Emission Grams/Mile  Fuel Cost/Year  \n",
       "0               17            17               522.764706            1950  \n",
       "1               13            13               683.615385            2550  \n",
       "2               17            16               555.437500            2100  \n",
       "3               13            13               683.615385            2550  \n",
       "4               21            16               555.437500            2550  \n",
       "...            ...           ...                      ...             ...  \n",
       "35947           38            36               244.000000            1100  \n",
       "35948           38            36               243.000000            1100  \n",
       "35949           38            36               244.000000            1100  \n",
       "35950           39            36               246.000000            1100  \n",
       "35951           39            35               255.000000            1150  \n",
       "\n",
       "[35952 rows x 15 columns]"
      ]
     },
     "execution_count": 29,
     "metadata": {},
     "output_type": "execute_result"
    }
   ],
   "source": [
    "# Import any libraries you may need & the data\n",
    "vehicles = pd.read_csv('vehicles.csv')\n",
    "vehicles"
   ]
  },
  {
   "cell_type": "markdown",
   "metadata": {},
   "source": [
    "Let's use the following variables for our analysis: Year, Cylinders, Fuel Barrels/Year, Combined MPG, and Fuel Cost/Year. We will use 'CO2 Emission Grams/Mile' as our outcome variable. \n",
    "\n",
    "Calculate the correlations between each of these variables and the outcome. Which variable do you think will be the most important in determining CO2 emissions? Which provides the least amount of helpful information for determining CO2 emissions? Add your responses as comments after your code."
   ]
  },
  {
   "cell_type": "code",
   "execution_count": 31,
   "metadata": {},
   "outputs": [
    {
     "name": "stdout",
     "output_type": "stream",
     "text": [
      "Correlations with CO2 Emission Grams/Mile:\n",
      "Year                -0.222300\n",
      "Cylinders            0.752393\n",
      "Fuel Barrels/Year    0.986189\n",
      "Combined MPG        -0.926229\n",
      "Fuel Cost/Year       0.930865\n",
      "Name: CO2 Emission Grams/Mile, dtype: float64\n"
     ]
    }
   ],
   "source": [
    "# Your response here. \n",
    "# Selecting relevant variables for analysis\n",
    "selected_variables = ['Year', 'Cylinders', 'Fuel Barrels/Year', 'Combined MPG', 'Fuel Cost/Year', 'CO2 Emission Grams/Mile']\n",
    "\n",
    "# Calculating correlations\n",
    "correlation_matrix = vehicles[selected_variables].corr()\n",
    "\n",
    "# Extracting correlations with the outcome variable\n",
    "correlations_with_CO2 = correlation_matrix['CO2 Emission Grams/Mile'].drop('CO2 Emission Grams/Mile')\n",
    "\n",
    "# Displaying correlations\n",
    "print(\"Correlations with CO2 Emission Grams/Mile:\")\n",
    "print(correlations_with_CO2)\n",
    "\n"
   ]
  },
  {
   "cell_type": "markdown",
   "metadata": {},
   "source": [
    "Build a regression model for this data. What type of regression are you using? Add your responses as comments after your code."
   ]
  },
  {
   "cell_type": "code",
   "execution_count": 35,
   "metadata": {},
   "outputs": [
    {
     "name": "stdout",
     "output_type": "stream",
     "text": [
      "Regression Coefficients:\n",
      "Year: -0.31558675458792096\n",
      "Cylinders: 1.7940263231039064\n",
      "Fuel Barrels/Year: 19.231027286739582\n",
      "Combined MPG: -2.9335731995915992\n",
      "Fuel Cost/Year: 0.03197145064095729\n",
      "\n",
      "Intercept: 755.6935073143877\n",
      "\n",
      "Root Mean Squared Error (RMSE): 17.024328006748945\n"
     ]
    }
   ],
   "source": [
    "# Your response here. \n",
    "from sklearn.model_selection import train_test_split\n",
    "from sklearn.linear_model import LinearRegression\n",
    "from sklearn import metrics\n",
    "\n",
    "# Selecting features and target variable\n",
    "features = ['Year', 'Cylinders', 'Fuel Barrels/Year', 'Combined MPG', 'Fuel Cost/Year']\n",
    "target = 'CO2 Emission Grams/Mile'\n",
    "\n",
    "# Splitting the data into training and testing sets\n",
    "X_train, X_test, y_train, y_test = train_test_split(vehicles[features], vehicles[target], test_size=0.2, random_state=42)\n",
    "\n",
    "# Creating a linear regression model\n",
    "model = LinearRegression()\n",
    "\n",
    "# Training the model on the training set\n",
    "model.fit(X_train, y_train)\n",
    "\n",
    "# Making predictions on the test set\n",
    "y_pred = model.predict(X_test)\n",
    "\n",
    "# Evaluating the performance of the model\n",
    "mse = metrics.mean_squared_error(y_test, y_pred)\n",
    "rmse = np.sqrt(mse)\n",
    "\n",
    "# Displaying regression coefficients (slope and intercept)\n",
    "print(\"Regression Coefficients:\")\n",
    "for feature, coefficient in zip(features, model.coef_):\n",
    "    print(f\"{feature}: {coefficient}\")\n",
    "\n",
    "print(\"\\nIntercept:\", model.intercept_)\n",
    "print(\"\\nRoot Mean Squared Error (RMSE):\", rmse)\n"
   ]
  },
  {
   "cell_type": "code",
   "execution_count": 38,
   "metadata": {},
   "outputs": [
    {
     "data": {
      "text/plain": [
       "\"\\nI'm using a Multiple Linear Regression model because there are multiple features influencing the target variable, and we assume a linear relationship between the features and the target.\\n\\nHere's the interpretation of the regression coefficients:\\n\\n-Year: A one-unit decrease in the year is associated with a decrease of approximately 0.316 units in CO2 emissions per mile, holding other variables constant.\\n\\n-Cylinders: An increase of one unit in the number of cylinders is associated with an increase of approximately 1.794 units in CO2 emissions per mile, holding other variables constant.\\n\\n-Fuel Barrels/Year: An increase of one unit in fuel barrels per year is associated with an increase of approximately 19.231 units in CO2 emissions per mile, holding other variables constant.\\n\\n-Combined MPG: An increase of one unit in combined MPG is associated with a decrease of approximately 2.934 units in CO2 emissions per mile, holding other variables constant.\\n\\n-Fuel Cost/Year: An increase of one unit in fuel cost per year is associated with an increase of approximately 0.032 units in CO2 emissions per mile, holding other variables constant.\\n\\n-Intercept: When all independent variables are zero, the predicted CO2 emissions per mile would be approximately 755.693 units.\\n\\n- Root Mean Squared Error (RMSE): The RMSE is a measure of the model's prediction accuracy. A lower RMSE indicates better performance.\\nAn RMSE of 17.02 suggests that, on average, the model's predictions for CO2 emissions per mile deviate from the actual values by approximately 17.02 units.\\n\\nConclusion:\\n\\nThe coefficients provide information about the direction and magnitude of the relationships between the independent variables and CO2 emissions.\\nVariables with higher coefficients contribute more to CO2 emissions.\\n\\n\\n\\n\\n\\n\\n\\n\""
      ]
     },
     "execution_count": 38,
     "metadata": {},
     "output_type": "execute_result"
    }
   ],
   "source": [
    "\"\"\"\n",
    "I'm using a Multiple Linear Regression model because there are multiple features influencing the target variable, and we assume a linear relationship between the features and the target.\n",
    "\n",
    "Here's the interpretation of the regression coefficients:\n",
    "\n",
    "-Year: A one-unit decrease in the year is associated with a decrease of approximately 0.316 units in CO2 emissions per mile, holding other variables constant.\n",
    "\n",
    "-Cylinders: An increase of one unit in the number of cylinders is associated with an increase of approximately 1.794 units in CO2 emissions per mile, holding other variables constant.\n",
    "\n",
    "-Fuel Barrels/Year: An increase of one unit in fuel barrels per year is associated with an increase of approximately 19.231 units in CO2 emissions per mile, holding other variables constant.\n",
    "\n",
    "-Combined MPG: An increase of one unit in combined MPG is associated with a decrease of approximately 2.934 units in CO2 emissions per mile, holding other variables constant.\n",
    "\n",
    "-Fuel Cost/Year: An increase of one unit in fuel cost per year is associated with an increase of approximately 0.032 units in CO2 emissions per mile, holding other variables constant.\n",
    "\n",
    "-Intercept: When all independent variables are zero, the predicted CO2 emissions per mile would be approximately 755.693 units.\n",
    "\n",
    "- Root Mean Squared Error (RMSE): The RMSE is a measure of the model's prediction accuracy. A lower RMSE indicates better performance.\n",
    "An RMSE of 17.02 suggests that, on average, the model's predictions for CO2 emissions per mile deviate from the actual values by approximately 17.02 units.\n",
    "\n",
    "Conclusion:\n",
    "\n",
    "The coefficients provide information about the direction and magnitude of the relationships between the independent variables and CO2 emissions.\n",
    "Variables with higher coefficients contribute more to CO2 emissions.\n",
    "\n",
    "\"\"\""
   ]
  },
  {
   "cell_type": "markdown",
   "metadata": {},
   "source": [
    "Print your regression summary, and interpret the results. What are the most important varibles in your model and why? What can conclusions can you draw from your model and how confident in these conclusions are you? Add your responses as comments after your code."
   ]
  },
  {
   "cell_type": "code",
   "execution_count": 36,
   "metadata": {},
   "outputs": [
    {
     "name": "stdout",
     "output_type": "stream",
     "text": [
      "                               OLS Regression Results                              \n",
      "===================================================================================\n",
      "Dep. Variable:     CO2 Emission Grams/Mile   R-squared:                       0.981\n",
      "Model:                                 OLS   Adj. R-squared:                  0.981\n",
      "Method:                      Least Squares   F-statistic:                 3.005e+05\n",
      "Date:                     Fri, 05 Jan 2024   Prob (F-statistic):               0.00\n",
      "Time:                             15:27:52   Log-Likelihood:            -1.2113e+05\n",
      "No. Observations:                    28761   AIC:                         2.423e+05\n",
      "Df Residuals:                        28755   BIC:                         2.423e+05\n",
      "Df Model:                                5                                         \n",
      "Covariance Type:                 nonrobust                                         \n",
      "=====================================================================================\n",
      "                        coef    std err          t      P>|t|      [0.025      0.975]\n",
      "-------------------------------------------------------------------------------------\n",
      "const               755.6935     21.507     35.137      0.000     713.539     797.848\n",
      "Year                 -0.3156      0.011    -29.360      0.000      -0.337      -0.295\n",
      "Cylinders             1.7940      0.092     19.497      0.000       1.614       1.974\n",
      "Fuel Barrels/Year    19.2310      0.068    281.981      0.000      19.097      19.365\n",
      "Combined MPG         -2.9336      0.047    -62.750      0.000      -3.025      -2.842\n",
      "Fuel Cost/Year        0.0320      0.001     59.724      0.000       0.031       0.033\n",
      "==============================================================================\n",
      "Omnibus:                    58182.680   Durbin-Watson:                   2.004\n",
      "Prob(Omnibus):                  0.000   Jarque-Bera (JB):        238983414.038\n",
      "Skew:                          16.711   Prob(JB):                         0.00\n",
      "Kurtosis:                     448.315   Cond. No.                     6.20e+05\n",
      "==============================================================================\n",
      "\n",
      "Notes:\n",
      "[1] Standard Errors assume that the covariance matrix of the errors is correctly specified.\n",
      "[2] The condition number is large, 6.2e+05. This might indicate that there are\n",
      "strong multicollinearity or other numerical problems.\n"
     ]
    }
   ],
   "source": [
    "# Your response here. \n",
    "import statsmodels.api as sm\n",
    "\n",
    "# Adding a constant term to the features\n",
    "X_train_sm = sm.add_constant(X_train)\n",
    "\n",
    "# Creating and fitting the OLS (Ordinary Least Squares) model\n",
    "ols_model = sm.OLS(y_train, X_train_sm).fit()\n",
    "\n",
    "# Printing the regression summary\n",
    "print(ols_model.summary())\n"
   ]
  },
  {
   "cell_type": "code",
   "execution_count": 41,
   "metadata": {},
   "outputs": [
    {
     "data": {
      "text/plain": [
       "'\\n- Among the predictors, \"Fuel Barrels/Year\" and \"Combined MPG\" appear to be the most important variables influencing CO2 emissions. These findings align with common expectations about fuel efficiency and fuel consumption.\\nInterpretation Confidence:\\n\\n-The R-squared value is high (0.981), indicating that the model explains a substantial proportion of the variance in CO2 emissions.\\n\\nHowever, caution is warranted due to the presence of non-normality in residuals, high kurtosis, and a large condition number, suggesting potential issues with multicollinearity.\\n\\n-Model Limitations and Considerations:\\n\\nThe model\\'s assumptions, including normality of residuals and absence of multicollinearity, are not fully met. This may impact the reliability of predictions.\\n\\nWhile the coefficients provide insights into variable relationships, causation cannot be inferred from a regression model alone.\\n\\nThe model should be used cautiously for predictive purposes, and additional diagnostics or model refinement may be necessary.\\n\\n'"
      ]
     },
     "execution_count": 41,
     "metadata": {},
     "output_type": "execute_result"
    }
   ],
   "source": [
    "\"\"\"\n",
    "- Among the predictors, \"Fuel Barrels/Year\" and \"Combined MPG\" appear to be the most important variables influencing CO2 emissions. These findings align with common expectations about fuel efficiency and fuel consumption.\n",
    "Interpretation Confidence:\n",
    "\n",
    "-The R-squared value is high (0.981), indicating that the model explains a substantial proportion of the variance in CO2 emissions.\n",
    "\n",
    "However, caution is warranted due to the presence of non-normality in residuals, high kurtosis, and a large condition number, suggesting potential issues with multicollinearity.\n",
    "\n",
    "-Model Limitations and Considerations:\n",
    "\n",
    "The model's assumptions, including normality of residuals and absence of multicollinearity, are not fully met. This may impact the reliability of predictions.\n",
    "\n",
    "While the coefficients provide insights into variable relationships, causation cannot be inferred from a regression model alone.\n",
    "\n",
    "The model should be used cautiously for predictive purposes, and additional diagnostics or model refinement may be necessary.\n",
    "\n",
    "\"\"\""
   ]
  },
  {
   "cell_type": "markdown",
   "metadata": {},
   "source": [
    "## Challenge 2: Error Analysis"
   ]
  },
  {
   "cell_type": "markdown",
   "metadata": {},
   "source": [
    "I am suspicious about the last few parties I have thrown: it seems that the more people I invite the more people are unable to attend. To know if my hunch is supported by data, I have decided to do an analysis. I have collected my data in the table below, where X is the number of people I invited, and Y is the number of people who attended. \n",
    "\n",
    "|  X |  Y |\n",
    "|----|----|\n",
    "| 1  |  1 |\n",
    "| 3  |  2 |\n",
    "| 4  |  4 |\n",
    "| 6  |  4 |\n",
    "| 8  |  5 |\n",
    "| 9  |  7 |\n",
    "| 11 |  8 |\n",
    "| 14 |  13 |"
   ]
  },
  {
   "cell_type": "markdown",
   "metadata": {},
   "source": [
    "We want to know if the relationship modeled by the two random variables is linear or not, and therefore if it is appropriate to model it with a linear regression. \n",
    "First, build a dataframe with the data. "
   ]
  },
  {
   "cell_type": "code",
   "execution_count": 7,
   "metadata": {},
   "outputs": [
    {
     "data": {
      "text/html": [
       "<div>\n",
       "<style scoped>\n",
       "    .dataframe tbody tr th:only-of-type {\n",
       "        vertical-align: middle;\n",
       "    }\n",
       "\n",
       "    .dataframe tbody tr th {\n",
       "        vertical-align: top;\n",
       "    }\n",
       "\n",
       "    .dataframe thead th {\n",
       "        text-align: right;\n",
       "    }\n",
       "</style>\n",
       "<table border=\"1\" class=\"dataframe\">\n",
       "  <thead>\n",
       "    <tr style=\"text-align: right;\">\n",
       "      <th></th>\n",
       "      <th>people_invited</th>\n",
       "      <th>people_attended</th>\n",
       "    </tr>\n",
       "  </thead>\n",
       "  <tbody>\n",
       "    <tr>\n",
       "      <th>0</th>\n",
       "      <td>1</td>\n",
       "      <td>1</td>\n",
       "    </tr>\n",
       "    <tr>\n",
       "      <th>1</th>\n",
       "      <td>3</td>\n",
       "      <td>2</td>\n",
       "    </tr>\n",
       "    <tr>\n",
       "      <th>2</th>\n",
       "      <td>4</td>\n",
       "      <td>4</td>\n",
       "    </tr>\n",
       "    <tr>\n",
       "      <th>3</th>\n",
       "      <td>6</td>\n",
       "      <td>4</td>\n",
       "    </tr>\n",
       "    <tr>\n",
       "      <th>4</th>\n",
       "      <td>8</td>\n",
       "      <td>5</td>\n",
       "    </tr>\n",
       "    <tr>\n",
       "      <th>5</th>\n",
       "      <td>9</td>\n",
       "      <td>7</td>\n",
       "    </tr>\n",
       "    <tr>\n",
       "      <th>6</th>\n",
       "      <td>11</td>\n",
       "      <td>8</td>\n",
       "    </tr>\n",
       "    <tr>\n",
       "      <th>7</th>\n",
       "      <td>14</td>\n",
       "      <td>13</td>\n",
       "    </tr>\n",
       "  </tbody>\n",
       "</table>\n",
       "</div>"
      ],
      "text/plain": [
       "   people_invited  people_attended\n",
       "0               1                1\n",
       "1               3                2\n",
       "2               4                4\n",
       "3               6                4\n",
       "4               8                5\n",
       "5               9                7\n",
       "6              11                8\n",
       "7              14               13"
      ]
     },
     "execution_count": 7,
     "metadata": {},
     "output_type": "execute_result"
    }
   ],
   "source": [
    "# Your code here.\n",
    "parties= pd.DataFrame({'people_invited': [1,3,4,6,8,9,11,14], 'people_attended': [1,2,4,4,5,7,8,13]})\n",
    "parties"
   ]
  },
  {
   "cell_type": "markdown",
   "metadata": {},
   "source": [
    "Draw a dispersion diagram (scatter plot) for the data, and fit a regression line."
   ]
  },
  {
   "cell_type": "code",
   "execution_count": 12,
   "metadata": {},
   "outputs": [
    {
     "name": "stdout",
     "output_type": "stream",
     "text": [
      "Slope (Coefficient): 0.8484848484848482\n",
      "Intercept: -0.43939393939393767\n"
     ]
    },
    {
     "data": {
      "image/png": "[encoded data removed]",
      "text/plain": [
       "<Figure size 640x480 with 1 Axes>"
      ]
     },
     "metadata": {},
     "output_type": "display_data"
    }
   ],
   "source": [
    "# Your code here.\n",
    "# Create scatter plot\n",
    "\n",
    "\n",
    "people_invited = parties['people_invited'].values.reshape(-1, 1)\n",
    "people_attended = parties['people_attended'].values\n",
    "\n",
    "# Create a linear regression model\n",
    "model = LinearRegression()\n",
    "\n",
    "# Fit the model using the data\n",
    "model.fit(people_invited, people_attended)\n",
    "\n",
    "# Get the slope (coefficient) and intercept\n",
    "slope = model.coef_[0]\n",
    "intercept = model.intercept_\n",
    "\n",
    "# Output the results\n",
    "print(f\"Slope (Coefficient): {slope}\")\n",
    "print(f\"Intercept: {intercept}\")\n",
    "\n",
    "# Plotting the scatter plot and regression line\n",
    "plt.scatter(parties['people_invited'], parties['people_attended'], label='Parties')\n",
    "plt.plot(people_invited, model.predict(people_invited), color='red', label='Regression Line')\n",
    "plt.xlabel('people_invited')\n",
    "plt.ylabel('people_attended')\n",
    "plt.title('Scatter Plot of people_invited vs people_attended')\n",
    "plt.legend()\n",
    "plt.show()\n"
   ]
  },
  {
   "cell_type": "markdown",
   "metadata": {},
   "source": [
    "What do you see? What does this plot tell you about the likely relationship between the variables? Print the results from your regression."
   ]
  },
  {
   "cell_type": "code",
   "execution_count": 13,
   "metadata": {},
   "outputs": [
    {
     "data": {
      "text/plain": [
       "\"The intercept of approximately -0.4394 suggests that when the number of invitations is zero, there is still a predicted attendance of around -0.4394. In practical terms, this doesn't have a meaningful interpretation, as you cannot have a negative attendance.\\n\\nTo summarize, the positive slope indicates a likely positive correlation between the number of invitations and attendance. However, it's important to note that correlation does not imply causation, and other factors may contribute to the observed relationship.\\n\""
      ]
     },
     "execution_count": 13,
     "metadata": {},
     "output_type": "execute_result"
    }
   ],
   "source": [
    "# Your response here. \n",
    "\"\"\"The intercept of approximately -0.4394 suggests that when the number of invitations is zero, there is still a predicted attendance of around -0.4394. In practical terms, this doesn't have a meaningful interpretation, as you cannot have a negative attendance.\n",
    "\n",
    "To summarize, the positive slope indicates a likely positive correlation between the number of invitations and attendance. However, it's important to note that correlation does not imply causation, and other factors may contribute to the observed relationship.\n",
    "\"\"\""
   ]
  },
  {
   "cell_type": "markdown",
   "metadata": {},
   "source": [
    "Do you see any problematic points, or outliers, in your data? Remove these points and recalculate your regression. Print the new dispersion diagram with your new model and the results of your model. "
   ]
  },
  {
   "cell_type": "code",
   "execution_count": 15,
   "metadata": {},
   "outputs": [
    {
     "name": "stdout",
     "output_type": "stream",
     "text": [
      "Slope (Coefficient): 0.6842105263157895\n",
      "Intercept: 0.32330827067669166\n"
     ]
    },
    {
     "data": {
      "image/png": "[encoded data removed]",
      "text/plain": [
       "<Figure size 640x480 with 1 Axes>"
      ]
     },
     "metadata": {},
     "output_type": "display_data"
    }
   ],
   "source": [
    "# Your response here. \n",
    "parties_change= pd.DataFrame({'people_invited': [1,3,4,6,8,9,11], 'people_attended': [1,2,4,4,5,7,8]})\n",
    "\n",
    "people_invited = parties_change['people_invited'].values.reshape(-1, 1)\n",
    "people_attended = parties_change['people_attended'].values\n",
    "\n",
    "# Create a linear regression model\n",
    "model = LinearRegression()\n",
    "\n",
    "# Fit the model using the data\n",
    "model.fit(people_invited, people_attended)\n",
    "\n",
    "# Get the slope (coefficient) and intercept\n",
    "slope = model.coef_[0]\n",
    "intercept = model.intercept_\n",
    "\n",
    "# Output the results\n",
    "print(f\"Slope (Coefficient): {slope}\")\n",
    "print(f\"Intercept: {intercept}\")\n",
    "\n",
    "# Plotting the scatter plot and regression line\n",
    "plt.scatter(parties_change['people_invited'], parties_change['people_attended'], label='Parties')\n",
    "plt.plot(people_invited, model.predict(people_invited), color='red', label='Regression Line')\n",
    "plt.xlabel('people_invited')\n",
    "plt.ylabel('people_attended')\n",
    "plt.title('Scatter Plot of people_invited vs people_attended')\n",
    "plt.legend()\n",
    "plt.show()\n"
   ]
  },
  {
   "cell_type": "markdown",
   "metadata": {},
   "source": [
    "What changed? Based on the results of the two models and your graphs, what can you say about the form of the data with the problematic point and without it?"
   ]
  },
  {
   "cell_type": "code",
   "execution_count": 17,
   "metadata": {},
   "outputs": [
    {
     "data": {
      "text/plain": [
       "\"Slope (Coefficient):\\nThe slope represents the change in the number of people attended for a one-unit change in the number of people invited. In the original model, the slope was steeper (0.8485), suggesting a more pronounced increase in attendance for each additional invitation compared to the new model (0.6842).\\n\\nIntercept:\\n\\nThe intercept is the predicted value of attendance when the number of invitations is zero. The change in sign indicates a shift in the baseline prediction. In the original model, it suggested a negative baseline attendance when no invitations were made, which might not be practically meaningful. The new model's positive intercept of 0.3233 suggests a more reasonable baseline attendance when no invitations are sent.\\n\\nThese differences highlight how small changes in the data can impact the regression results, and interpreting the coefficients should consider both the magnitude and direction of the changes.\""
      ]
     },
     "execution_count": 17,
     "metadata": {},
     "output_type": "execute_result"
    }
   ],
   "source": [
    "# Your response here. \n",
    "\"\"\"Slope (Coefficient):\n",
    "The slope represents the change in the number of people attended for a one-unit change in the number of people invited. In the original model, the slope was steeper (0.8485), suggesting a more pronounced increase in attendance for each additional invitation compared to the new model (0.6842).\n",
    "\n",
    "Intercept:\n",
    "\n",
    "The intercept is the predicted value of attendance when the number of invitations is zero. The change in sign indicates a shift in the baseline prediction. In the original model, it suggested a negative baseline attendance when no invitations were made, which might not be practically meaningful. The new model's positive intercept of 0.3233 suggests a more reasonable baseline attendance when no invitations are sent.\n",
    "\n",
    "These differences highlight how small changes in the data can impact the regression results, and interpreting the coefficients should consider both the magnitude and direction of the changes.\"\"\""
   ]
  }
 ],
 "metadata": {
  "kernelspec": {
   "display_name": "Python 3 (ipykernel)",
   "language": "python",
   "name": "python3"
  },
  "language_info": {
   "codemirror_mode": {
    "name": "ipython",
    "version": 3
   },
   "file_extension": ".py",
   "mimetype": "text/x-python",
   "name": "python",
   "nbconvert_exporter": "python",
   "pygments_lexer": "ipython3",
   "version": "3.11.4"
  }
 },
 "nbformat": 4,
 "nbformat_minor": 2
}
